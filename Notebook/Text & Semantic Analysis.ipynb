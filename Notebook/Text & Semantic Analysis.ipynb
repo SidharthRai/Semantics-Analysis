{
 "cells": [
  {
   "cell_type": "code",
   "execution_count": 52,
   "metadata": {},
   "outputs": [],
   "source": [
    "#!pip install Algorithmia\n",
    "#!pip install --upgrade aylien-apiclient"
   ]
  },
  {
   "cell_type": "markdown",
   "metadata": {},
   "source": [
    "Different APIs for text analytics and SEMANTIC ANALYSIS using machine learning were tried including :\n",
    "\n",
    "Algorithmia - Many text analytics, NLP and entity extraction algorithms are available as part of their cloud based offering Algorithmia algorithms tried out include:\n",
    "\n",
    "Part of speech tagging using OpenNLP: http://opennlp.apache.org/ The Part of Speech Tagger marks tokens with their corresponding word type based on the token itself and the context of the token. A token might have multiple pos tags depending on the token and the context. The OpenNLP POS Tagger uses a probability model to predict the correct pos tag out of the tag set. To limit the possible tags for a token a tag dictionary can be used which increases the tagging and runtime performance of the tagger. Parts are tagged according to the conventions of the Penn Treebank Project (https://www.ling.upenn.edu/courses/Fall_2003/ling001/penn_treebank_pos.html). For example, a plural noun is denoted NNS, a singular or mass noun is NN, and a determiner (such as a/an, every, no, the,another, any, some, each, etc.) as DT.\n",
    "Tokenizer: https://algorithmia.com/algorithms/ApacheOpenNLP/TokenizeBySentence\n",
    "Auto tagging of text: Algorithm uses a variant of nlp/LDA to extract tags / keywords - https://algorithmia.com/algorithms/nlp/AutoTag\n",
    "Aylien - Classification by Taxonomy: https://developer.aylien.com/\n",
    "\n",
    "Use LDA to Classify Text Documents - LDA is an algorithm that can be used to generate topics to understand a document’s general theme: http://blog.algorithmia.com/lda-algorithm-classify-text-documents/\n",
    "\n",
    "MonkeyLearn: Taxonomy Classifier: https://app.monkeylearn.com/main/classifiers/cl_b7qAkDMz/tab/tree-sandbox/\n",
    "\n",
    "Output - Python Dictionary data structure inside Algorithmia\n",
    "\n",
    "Tesseract OCR in Algorithmia: https://algorithmia.com/algorithms/tesseractocr/OCR\n",
    "\n",
    "Create PDF using ReportLab PLUS: https://www.reportlab.com/reportlabplus/"
   ]
  },
  {
   "cell_type": "code",
   "execution_count": 53,
   "metadata": {
    "scrolled": false
   },
   "outputs": [
    {
     "name": "stdout",
     "output_type": "stream",
     "text": [
      "BETWEEN THE LINES 5v ALEERYGUFFANTI\n",
      "\n",
      " \n",
      "\n",
      "Learn to Love Artificial Intelligence\n",
      "\n",
      "HOW COGNITIVE COMPUTING IS CHANGING THE WAY CPG\n",
      "COMPANIES CONDUCT BUSINESS\n",
      "\n",
      "The Oscar-winning film \"Her\" tells the story ofa man who falls in love with the\n",
      "artificial intelligence (Al) personal assistant on his smartphone. That may sound\n",
      "far-fetched, but many consumer packaged goods (CPG) companies are already\n",
      "enamored. Relying on cognitive computing systems that help harness big data\n",
      "insights provides a competitive edge in a changing business landscape. Really,\n",
      "What's not to love? We asked Stephen DeAngelis, chief executive officer of En-\n",
      "terra Solutions lwww.entenasnlutinns.com), to break down the appeal.\n",
      "\n",
      "What is cognitive computing and how can it further data initiatives?\n",
      "\n",
      "DEANGELIS: Researchers, hospitals and especially businesses are amassing\n",
      "terabytes of data every day that could reveal everything from more effective\n",
      "disease treatments to which products consumers are likely to purchase. To get at\n",
      "that information, big data analytics have become de rigueur, and global spend'\n",
      "ing on big data is expected to hit $1 18 billion in 2018. But all that data requires a\n",
      "new degree ofanalysis. That's where cognitive computing —computer systems\n",
      "\n",
      "Ant-amt,“ m thinl/ Ma Inavn i mm“ in annlltArc am “an. at Humanism\"\n",
      "\n",
      "STEPHEN\n",
      "DEANGELIS\n",
      "OED\n",
      "\n",
      "Enterra Solutions\n",
      "\n",
      "\"Computers are\n",
      "adept at recog'\n",
      "nizing patterns\n",
      "and making\n",
      "connections.\n",
      "Setting one\n",
      "loose to sift\n",
      "through moun-\n",
      "tains of data,\n"
     ]
    }
   ],
   "source": [
    "#Text Analysis or Natural Language Processing (NLP) - Algorithmia API\n",
    "import Algorithmia\n",
    "client = Algorithmia.client('sim3x6PzEv6m2icRR+23rqTTcOo1')\n",
    "\n",
    "#from Algorithmia.acl import ReadAcl, AclType\n",
    "#Next create a data collection called nlp_directory:\n",
    "\n",
    "import os\n",
    "os.listdir(\".\")\n",
    "\n",
    "# Set your Data URI -- a jpg \n",
    "input = {\"src\":\"data://shamitb/ocr/ai.jpg\"}\n",
    "\n",
    "#setting up a client object \n",
    "client_algo = Algorithmia.client('sim3x6PzEv6m2icRR+23rqTTcOo1')\n",
    "\n",
    "#passing the algo name for OCR detection\n",
    "algo = client_algo.algo('tesseractocr/OCR/0.1.0')\n",
    "\n",
    "#applying the algorithm\n",
    "response = algo.pipe(input).result\n",
    "\n",
    "#input object after being processsed by algorithm is produced\n",
    "print(response['result'])\n",
    "\n",
    "\n"
   ]
  },
  {
   "cell_type": "code",
   "execution_count": 54,
   "metadata": {},
   "outputs": [
    {
     "name": "stdout",
     "output_type": "stream",
     "text": [
      "\n",
      "*******************************\n",
      " TAXONOMY : \n",
      "\n",
      "Technology & Computing\n",
      "Data Centers\n"
     ]
    }
   ],
   "source": [
    "print('\\n*******************************\\n TAXONOMY : \\n')\n",
    "#classification of data takes place here into categories, by the algorithm\n",
    "# **************** Aylien - Taxonomy ****************\n",
    "from aylienapiclient import textapi\n",
    "client_aylien = textapi.Client(\"a19bb245\", \"2623b77754833e2711998a0b0bdad9db\")\n",
    "#response object from requested api is made the input for algo.\n",
    "text = response\n",
    "classifications = client_aylien.ClassifyByTaxonomy({\"text\": text, \"taxonomy\": \"iab-qag\"})\n",
    "for category in classifications['categories']:\n",
    "    print(category['label'])"
   ]
  },
  {
   "cell_type": "code",
   "execution_count": 56,
   "metadata": {},
   "outputs": [
    {
     "name": "stdout",
     "output_type": "stream",
     "text": [
      "\n",
      "*******************************\n",
      " AUTO TAGS : \n",
      "\n",
      "big\n",
      "cognitive\n",
      "computing\n",
      "data\n",
      "deangelis\n",
      "love\n",
      "solutions\n",
      "stephen\n",
      "['big', 'cognitive', 'computing', 'data', 'deangelis', 'love', 'solutions', 'stephen']\n"
     ]
    }
   ],
   "source": [
    "print('\\n*******************************\\n AUTO TAGS : \\n')\n",
    "#tags are being generated from the result of last \n",
    "# ************** Algorithmia - Auto - tag *******************\n",
    "input = text['result']\n",
    "#tags are created over results from the text read by ocr algo over words which occur the most\n",
    "algo = client.algo('nlp/AutoTag/1.0.0')\n",
    "response2 = algo.pipe(input)\n",
    "for category in response2.result:\n",
    "    print(category)\n",
    "print(response2.result)"
   ]
  },
  {
   "cell_type": "code",
   "execution_count": 35,
   "metadata": {},
   "outputs": [
    {
     "name": "stdout",
     "output_type": "stream",
     "text": [
      "\n",
      "*******************************\n",
      " ENTITIES : \n",
      "\n",
      "[[['Oscar-winning', 'MISC']], [], [], [], [['Stephen', 'PERSON'], ['DeAngelis', 'PERSON']], [], [['DEANGELIS', 'PERSON'], ['every', 'SET'], ['day', 'SET']], [['$', 'MONEY'], ['1', 'MONEY'], ['18', 'MONEY'], ['billion', 'MONEY'], ['2018', 'DATE']], [], [['Ma', 'PERSON'], ['Inavn', 'PERSON']], [['STEPHEN', 'PERSON'], ['DEANGELIS', 'PERSON'], ['Enterra', 'ORGANIZATION'], ['Solutions', 'ORGANIZATION']], [['one', 'NUMBER']]]\n"
     ]
    }
   ],
   "source": [
    "print('\\n*******************************\\n ENTITIES : \\n')\n",
    "# **************** Algorithmia - Entities ****************\n",
    "text = response['result']\n",
    "text.encode('ascii', 'ignore')\n",
    "#the OCR resutlt is again used to indentify entities like numbers, organizaions, date in the data by classifying them\n",
    "algo = client.algo('StanfordNLP/NamedEntityRecognition/0.2.0')\n",
    "entities = algo.pipe(text)\n",
    "print(entities.result)\n",
    "entities = entities.result"
   ]
  },
  {
   "cell_type": "code",
   "execution_count": 36,
   "metadata": {},
   "outputs": [
    {
     "name": "stdout",
     "output_type": "stream",
     "text": [
      "\n",
      "*******************************\n",
      " DOCUMENT SIMILARITY : \n",
      "\n",
      "{'files': [['doc1', 'the document about tigers'], ['doc2', 'the movie about cars'], ['doc3', 'the document about cats']]}\n",
      "[[0.6463776036916613, 'doc1', 'doc3'], [0.2595456571080647, 'doc2', 'doc3'], [0.1548141369835987, 'doc1', 'doc2']]\n"
     ]
    }
   ],
   "source": [
    "print('\\n*******************************\\n DOCUMENT SIMILARITY : \\n')\n",
    "# **************** Algorithmia - TextSimilarity ****************\n",
    "input = {\"files\": [[\"doc1\", \"the document about tigers\"], [\"doc2\", \"the movie about cars\"], [\"doc3\", \"the document about cats\"]]}\n",
    "print(input)\n",
    "#document similarity is checked from three other documents doc1, doc2, doc3 compared to files/our data \n",
    "algo = client.algo('PetiteProgrammer/TextSimilarity/0.1.2')\n",
    "print(algo.pipe(input).result)"
   ]
  },
  {
   "cell_type": "code",
   "execution_count": 37,
   "metadata": {},
   "outputs": [
    {
     "name": "stdout",
     "output_type": "stream",
     "text": [
      "\n",
      "*******************************\n",
      " SENTENCE PARSING : \n",
      "\n",
      "{'output': {'sentences': [{'words': [{'dep_relation': 'nsubj', 'extra_deps': [''], 'features': {'Number': 'Sing', 'fPOS': 'PROPN++NNP'}, 'form': 'Algorithmia', 'head': 6, 'index': 1, 'language_pos': 'NNP', 'lemma': '', 'misc': '', 'universal_pos': 'PROPN'}, {'dep_relation': 'cop', 'extra_deps': [''], 'features': {'Mood': 'Ind', 'Number': 'Sing', 'Person': '3', 'Tense': 'Pres', 'VerbForm': 'Fin', 'fPOS': 'VERB++VBZ'}, 'form': 'is', 'head': 6, 'index': 2, 'language_pos': 'VBZ', 'lemma': '', 'misc': '', 'universal_pos': 'VERB'}, {'dep_relation': 'det', 'extra_deps': [''], 'features': {'Definite': 'Def', 'PronType': 'Art', 'fPOS': 'DET++DT'}, 'form': 'the', 'head': 6, 'index': 3, 'language_pos': 'DT', 'lemma': '', 'misc': '', 'universal_pos': 'DET'}, {'dep_relation': 'amod', 'extra_deps': [''], 'features': {'Degree': 'Sup', 'fPOS': 'ADJ++JJS'}, 'form': 'best', 'head': 6, 'index': 4, 'language_pos': 'JJS', 'lemma': '', 'misc': '', 'universal_pos': 'ADJ'}, {'dep_relation': 'amod', 'extra_deps': [''], 'features': {'Degree': 'Pos', 'fPOS': 'ADJ++JJ'}, 'form': 'online', 'head': 6, 'index': 5, 'language_pos': 'JJ', 'lemma': '', 'misc': '', 'universal_pos': 'ADJ'}, {'dep_relation': 'ROOT', 'extra_deps': [''], 'features': {'Number': 'Sing', 'fPOS': 'NOUN++NN'}, 'form': 'platform', 'head': 0, 'index': 6, 'language_pos': 'NN', 'lemma': '', 'misc': '', 'universal_pos': 'NOUN'}, {'dep_relation': 'amod', 'extra_deps': [''], 'features': {'Degree': 'Pos', 'fPOS': 'ADJ++JJ'}, 'form': 'available', 'head': 6, 'index': 7, 'language_pos': 'NN', 'lemma': '', 'misc': '', 'universal_pos': 'NOUN'}, {'dep_relation': 'mark', 'extra_deps': [''], 'features': {'fPOS': 'ADP++IN'}, 'form': 'for', 'head': 10, 'index': 8, 'language_pos': 'IN', 'lemma': '', 'misc': '', 'universal_pos': 'ADP'}, {'dep_relation': 'nsubj', 'extra_deps': [''], 'features': {'Number': 'Sing', 'fPOS': 'NOUN++NN'}, 'form': 'machine', 'head': 10, 'index': 9, 'language_pos': 'NN', 'lemma': '', 'misc': '', 'universal_pos': 'NOUN'}, {'dep_relation': 'advcl', 'extra_deps': [''], 'features': {'VerbForm': 'Ger', 'fPOS': 'VERB++VBG'}, 'form': 'learning', 'head': 7, 'index': 10, 'language_pos': 'VBG', 'lemma': '', 'misc': '', 'universal_pos': 'VERB'}, {'dep_relation': 'cc', 'extra_deps': [''], 'features': {'fPOS': 'CONJ++CC'}, 'form': 'and', 'head': 10, 'index': 11, 'language_pos': 'CC', 'lemma': '', 'misc': '', 'universal_pos': 'CONJ'}, {'dep_relation': 'compound', 'extra_deps': [''], 'features': {'Number': 'Sing', 'fPOS': 'NOUN++NN'}, 'form': 'text', 'head': 13, 'index': 12, 'language_pos': 'NN', 'lemma': '', 'misc': '', 'universal_pos': 'NOUN'}, {'dep_relation': 'conj', 'extra_deps': [''], 'features': {'fPOS': 'PUNCT++.'}, 'form': 'analytics.', 'head': 10, 'index': 13, 'language_pos': 'ADD', 'lemma': '', 'misc': '', 'universal_pos': 'X'}]}]}}\n"
     ]
    }
   ],
   "source": [
    "print('\\n*******************************\\n SENTENCE PARSING : \\n')\n",
    "\"\"\"\n",
    "Parsing is a traditional grammatical exercise that involves breaking down a text into its component\n",
    "parts of speech with an explanation of the form, function, and syntactic relationship of each part.\n",
    "\"\"\"\n",
    "# **************** Algorithmia - SENTENCE PARSING ****************\n",
    "input = {\n",
    "  \"src\":\"Algorithmia is the best online platform available for machine learning and text analytics.\",\n",
    "  \"format\":\"conll\",\n",
    "  \"language\":\"english\"\n",
    "}\n",
    "#prepositions, nouns, verbs have been omitted from the text.\n",
    "algo = client.algo('deeplearning/Parsey/1.0.2')\n",
    "print(algo.pipe(input).result)"
   ]
  },
  {
   "cell_type": "code",
   "execution_count": 38,
   "metadata": {},
   "outputs": [
    {
     "name": "stdout",
     "output_type": "stream",
     "text": [
      "\n",
      "*******************************\n",
      " CO-REFERENCE : \n",
      "\n",
      "[{'THE LINES': ['That']}, {'Love Artificial Intelligence HOW COGNITIVE COMPUTING IS CHANGING THE WAY CPG COMPANIES CONDUCT BUSINESS': ['Her']}, {'THE WAY CPG COMPANIES': ['companies']}, {'the artificial intelligence -LRB- Al -RRB- personal assistant': ['his']}, {'Stephen DeAngelis , chief executive officer of En - terra Solutions lwww.entenasnlutinns.com -RRB-': ['Stephen DeAngelis', 'DEANGELIS', 'STEPHEN DEANGELIS']}, {'terra Solutions lwww.entenasnlutinns.com': ['it']}, {'data': []}, {'a new degree ofanalysis': ['That']}]\n"
     ]
    }
   ],
   "source": [
    "print('\\n*******************************\\n CO-REFERENCE : \\n')\n",
    "# ****************** CO REFERENCE **********************\n",
    "algo = client.algo('StanfordNLP/DeterministicCoreferenceResolution/0.1.1')\n",
    "\"\"\"\n",
    "Classifications where references are found, meaning full details that could be used from the data are resulted by this algo\n",
    "{'terra Solutions lwww.entenasnlutinns.com': ['it']}\n",
    "\"\"\"\n",
    "print(algo.pipe(text).result)"
   ]
  },
  {
   "cell_type": "code",
   "execution_count": null,
   "metadata": {},
   "outputs": [],
   "source": [
    "print('\\n*******************************\\n PART-OF-SPEECH (POS) TAGGER : \\n')\n",
    "# ****************** PART-OF-SPEECH (POS) TAGGER **********************\n",
    "algo = client.algo('ApacheOpenNLP/POSTagger/0.1.1')\n",
    "print(text)\n",
    "#tags part-of-speech and returns an array but throwing an error - all the inputs to be in json -- our reslut is string not getting fixes for that\n",
    "text = response['result']\n",
    "print(algo.pipe(text).result)"
   ]
  },
  {
   "cell_type": "code",
   "execution_count": null,
   "metadata": {},
   "outputs": [],
   "source": [
    "print('\\n*******************************\\n TOKENIZE : \\n')\n",
    "# ****************** TOKENIZE **********************\n",
    "algo = client.algo('ApacheOpenNLP/TokenizeBySentence/0.1.0')\n",
    "print(algo.pipe(text))"
   ]
  },
  {
   "cell_type": "code",
   "execution_count": 42,
   "metadata": {},
   "outputs": [
    {
     "name": "stdout",
     "output_type": "stream",
     "text": [
      "\n",
      "*******************************\n",
      " LDA : \n",
      "\n",
      "{'docsList': ['BETWEEN THE LINES 5v ALEERYGUFFANTI\\n\\n \\n\\nLearn to Love Artificial Intelligence\\n\\nHOW COGNITIVE COMPUTING IS CHANGING THE WAY CPG\\nCOMPANIES CONDUCT BUSINESS\\n\\nThe Oscar-winning film \"Her\" tells the story ofa man who falls in love with the\\nartificial intelligence (Al) personal assistant on his smartphone.', 'That may sound\\nfar-fetched, but many consumer packaged goods (CPG) companies are already\\nenamored.', 'Relying on cognitive computing systems that help harness big data\\ninsights provides a competitive edge in a changing business landscape.', \"Really,\\nWhat's not to love?\", 'We asked Stephen DeAngelis, chief executive officer of En-\\nterra Solutions lwww.entenasnlutinns.com), to break down the appeal.', 'What is cognitive computing and how can it further data initiatives?', 'DEANGELIS: Researchers, hospitals and especially businesses are amassing\\nterabytes of data every day that could reveal everything from more effective\\ndisease treatments to which products consumers are likely to purchase.', \"To get at\\nthat information, big data analytics have become de rigueur, and global spend'\\ning on big data is expected to hit $1 18 billion in 2018.\", 'But all that data requires a\\nnew degree ofanalysis.', 'That\\'s where cognitive computing —computer systems\\n\\nAnt-amt,“ m thinl/ Ma Inavn i mm“ in annlltArc am “an. at Humanism\"\\n\\nSTEPHEN\\nDEANGELIS\\nOED\\n\\nEnterra Solutions\\n\\n\"Computers are\\nadept at recog\\'\\nnizing patterns\\nand making\\nconnections.', 'Setting one\\nloose to sift\\nthrough moun-\\ntains of data,'], 'mode': 'quality'}\n",
      "[{'ant-amt': 1, 'cognitive': 2, 'computer': 1, 'connections': 1, 'data': 2, 'nizing': 1, 'ofanalysis': 1, 'recog': 1}, {'companies': 2, 'humanism': 1, 'loose': 1, 'love': 2, 'moun': 1, 'setting': 1, 'sift': 1, 'tains': 1}, {'break': 1, 'data': 2, 'disease': 1, 'hospitals': 1, 'initiatives': 1, 'lwww.entenasnlutinns.com': 1, 'requires': 1, 'solutions': 1}, {'adept': 1, 'big': 2, 'computers': 1, 'data': 2, 'enterra': 1, 'making': 1, 'oed': 1, 'patterns': 1}]\n"
     ]
    }
   ],
   "source": [
    "print('\\n*******************************\\n LDA : \\n')\n",
    "# ****************** LDA **********************\n",
    "#classify text in a document to a particular topic.\n",
    "algo = client.algo('ApacheOpenNLP/SentenceDetection/0.1.0')\n",
    "sentences = algo.pipe(text)\n",
    "#print(sentences)\n",
    "algo = client.algo('nlp/LDA/1.0.0')\n",
    "input = {\n",
    "  \"docsList\": sentences.result,\n",
    "  \"mode\": \"quality\"\n",
    "}\n",
    "\n",
    "print(input)\n",
    "LDA = algo.pipe(input).result\n",
    "print(LDA)"
   ]
  },
  {
   "cell_type": "code",
   "execution_count": 45,
   "metadata": {},
   "outputs": [
    {
     "name": "stdout",
     "output_type": "stream",
     "text": [
      "BETWEEN THE LINES 5v ALEERYGUFFANTI\n",
      "\n",
      " \n",
      "\n",
      "Learn to Love Artificial Intelligence\n",
      "\n",
      "HOW COGNITIVE COMPUTING IS CHANGING THE WAY CPG\n",
      "COMPANIES CONDUCT BUSINESS\n",
      "\n",
      "The Oscar-winning film \"Her\" tells the story ofa man who falls in love with the\n",
      "artificial intelligence (Al) personal assistant on his smartphone.  Relying on cognitive computing systems that help harness big data\n",
      "insights provides a competitive edge in a changing business landscape. We asked Stephen DeAngelis, chief executive officer of En-\n",
      "terra Solutions lwww.\n"
     ]
    }
   ],
   "source": [
    "summ_text = response['result']\n",
    "#summarizes the text - result of OCR\n",
    "algo = client.algo('nlp/Summarizer/0.1.8')\n",
    "summ = algo.pipe(summ_text).result\n",
    "print(algo.pipe(summ_text).result)"
   ]
  },
  {
   "cell_type": "code",
   "execution_count": 68,
   "metadata": {},
   "outputs": [
    {
     "name": "stdout",
     "output_type": "stream",
     "text": [
      "\n",
      "*******************************\n",
      " Sentiments : \n",
      "\n",
      "Sentiment Score ( big ):  2\n",
      "Sentiment Score ( cognitive ):  2\n",
      "Sentiment Score ( computing ):  2\n",
      "Sentiment Score ( data ):  2\n",
      "Sentiment Score ( deangelis ):  2\n",
      "Sentiment Score ( love ):  4\n",
      "Sentiment Score ( solutions ):  3\n",
      "Sentiment Score ( stephen ):  2\n",
      "0.484375\n"
     ]
    }
   ],
   "source": [
    "#Sentiment Analysis\n",
    "print('\\n*******************************\\n Sentiments : \\n')\n",
    "algo = client.algo('nlp/SentimentAnalysis/1.0.5')\n",
    "sentiment = []\n",
    "for category in response2.result:\n",
    "    s = algo.pipe(category).result\n",
    "    print(\"Sentiment Score (\",category,\"): \", s)\n",
    "    sentiment.append(s)\n",
    "\n",
    "#checking the level of sentiment\n",
    "import numpy\n",
    "sentiment = numpy.asarray(sentiment)\n",
    "how_much_senti = sentiment.var()\n",
    "#Var returns the variance of the array elements, a measure of the spread of a distribution. \n",
    "#The variance is computed for the flattened array by default, otherwise over the specified axis.\n",
    "print(how_much_senti)\n",
    "#this variance value can affect the result of our classification"
   ]
  },
  {
   "cell_type": "code",
   "execution_count": null,
   "metadata": {},
   "outputs": [],
   "source": []
  }
 ],
 "metadata": {
  "kernelspec": {
   "display_name": "Python 3",
   "language": "python",
   "name": "python3"
  },
  "language_info": {
   "codemirror_mode": {
    "name": "ipython",
    "version": 3
   },
   "file_extension": ".py",
   "mimetype": "text/x-python",
   "name": "python",
   "nbconvert_exporter": "python",
   "pygments_lexer": "ipython3",
   "version": "3.6.4"
  }
 },
 "nbformat": 4,
 "nbformat_minor": 2
}
