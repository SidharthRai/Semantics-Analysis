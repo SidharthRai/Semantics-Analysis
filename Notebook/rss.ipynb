{
 "cells": [
  {
   "cell_type": "code",
   "execution_count": 1,
   "metadata": {},
   "outputs": [],
   "source": [
    "#!pip install Algorithmia\n",
    "#!pip install --upgrade aylien-apiclient"
   ]
  },
  {
   "cell_type": "code",
   "execution_count": 2,
   "metadata": {
    "scrolled": false
   },
   "outputs": [],
   "source": [
    "#Text Analysis or Natural Language Processing (NLP) - Algorithmia API\n",
    "import Algorithmia\n",
    "client = Algorithmia.client('sim3x6PzEv6m2icRR+23rqTTcOo1')"
   ]
  },
  {
   "cell_type": "code",
   "execution_count": 8,
   "metadata": {},
   "outputs": [
    {
     "name": "stdout",
     "output_type": "stream",
     "text": [
      "[{'description': '', 'title': 'Nifty Made a Close Above 11000. Is the Consolidation Over?', 'url': 'https://in.investing.com/analysis/nifty-made-a-close-above-11000-is-the-consolidation-over-200208150'}, {'description': '', 'title': 'Indian Market Outperformed the Global Indices in the Current Week', 'url': 'https://in.investing.com/analysis/indian-market-outperformed-the-global-indices-in-the-current-week-200208149'}, {'description': '', 'title': 'India Vix Drops Below 15, Can the Bears Attack Nifty Next Week?', 'url': 'https://in.investing.com/analysis/india-vix-drops-below-15-can-the-bears-attack-nifty-next-week-200208138'}, {'description': '', 'title': 'A Full-Frontal Challenge To The US Dollar Will Destroy Even The Faith In It', 'url': 'https://in.investing.com/analysis/a-fullfrontal-challenge-to-the-us-dollar-will-destroy-even-the-faith-in-it-200208137'}, {'description': '', 'title': 'Markets Trading At Highs, But Weak Global Cues May Restrict Upside', 'url': 'https://in.investing.com/analysis/markets-trading-at-highs-but-weak-global-cues-may-restrict-upside-200208123'}, {'description': '', 'title': 'Profit Booking Seen in Nifty Call Options, Should You Buy on Dips?', 'url': 'https://in.investing.com/analysis/profit-booking-seen-in-nifty-call-options-should-you-buy-on-dips-200208119'}, {'description': '', 'title': 'Nifty Jumped on Hopes of a Mega Poll-Victory of Modi and Easing of Pak Tensions', 'url': 'https://in.investing.com/analysis/nifty-jumped-on-hopes-of-a-mega-pollvictory-of-modi-and-easing-of-pak-tensions-200208117'}, {'description': '', 'title': 'Market May Continue its Rally Supported By FII and PRO Long Position', 'url': 'https://in.investing.com/analysis/market-may-continue-its-rally-supported-by-fii--pro-long-position-in-index-option-200208094'}, {'description': '', 'title': 'Fed Says No More Rate Hike, Can Nifty Hit 11200?', 'url': 'https://in.investing.com/analysis/fed-says-no-more-rate-hike-can-nifty-hit-11200-200208088'}, {'description': '', 'title': 'Why NBFC Companies Might Be Heading For Better Days', 'url': 'https://in.investing.com/analysis/why-nbfc-companies-might-be-heading-for-better-days-200208073'}]\n"
     ]
    }
   ],
   "source": [
    "import Algorithmia\n",
    "\n",
    "#input = \"https://economictimes.indiatimes.com/rssfeedstopstories.cms\"\n",
    "input = \"https://in.investing.com/rss/market_overview_Technical.rss\"\n",
    "algo = client.algo('tags/ScrapeRSS/0.1.6')\n",
    "algo.set_options(timeout=300) # optional\n",
    "text = algo.pipe(input).result\n",
    "print(text)"
   ]
  },
  {
   "cell_type": "code",
   "execution_count": 5,
   "metadata": {
    "scrolled": true
   },
   "outputs": [
    {
     "name": "stdout",
     "output_type": "stream",
     "text": [
      "\n",
      "*******************************\n",
      " AUTO TAGS : \n",
      "\n",
      "Tagging  0\n",
      "Tagging  1\n",
      "Tagging  2\n",
      "Tagging  3\n",
      "Tagging  4\n",
      "Tagging  5\n",
      "Tagging  6\n",
      "Tagging  7\n",
      "Tagging  8\n",
      "Tagging  9\n",
      "Tagging  10\n",
      "Tagging  11\n",
      "Tagging  12\n",
      "[['crore', 'firstland', 'group', 'holdings', 'kochhar', 'loan', 'nrl', 'videocon'], ['diamond', 'home', 'london', 'lot', 'modi', 'nirav', 'request', 'telegraph'], ['asia', 'bank', 'banking', 'business', 'citi', 'financial', 'india', 'khullar'], ['economic', 'economics', 'gdp', 'growth', 'local', 'numbers', 'official', 'statistics'], ['budget', 'estate', 'housing', 'income', 'real', 'sector', 'tax', 'unsold'], ['completely', 'dues', 'employees', 'ethiopia', 'hari', 'il&fs', 'itnl', 'refused'], ['advertisement', 'cultural', 'father', 'hul', \"india's\", 'man', 'mncs', 'tweet'], ['aircraft', 'airline', 'bring', 'crore', 'emergency', 'lenders', 'plan', 'sbi'], ['dyf', 'hong', 'indexes', 'kong', 'market', 'msci', 'stock', 'surge'], ['crore', 'equity', 'flows', 'fund', 'funds', 'liquidity', 'money', 'smart'], ['billion', 'companies', 'consumer', 'e-commerce', 'internet', 'investment', 'paytm', 'usd'], ['alleged', 'appeal', 'bofors', 'cbi', 'court', 'filed', 'high', 'hinduja'], ['employment', 'government', 'growth', 'initiatives', 'jobs', 'msmes', 'survey', 'years']]\n"
     ]
    }
   ],
   "source": [
    "print('\\n*******************************\\n AUTO TAGS : \\n')\n",
    "#tags are being generated from the result of last \n",
    "# ************** Algorithmia - Auto - tag *******************\n",
    "#tags are created over results from the text read by ocr algo over words which occur the most\n",
    "algo = client.algo('nlp/AutoTag/1.0.0')\n",
    "list_tags = []\n",
    "for x in range (len(text)):\n",
    "    print(\"Tagging \",x)\n",
    "    response2 = algo.pipe(text[x]['description'])\n",
    "    j = []\n",
    "    for category in response2.result:\n",
    "        j.append(category)\n",
    "    list_tags.append(j)\n",
    "print(list_tags)"
   ]
  },
  {
   "cell_type": "code",
   "execution_count": 6,
   "metadata": {},
   "outputs": [
    {
     "name": "stdout",
     "output_type": "stream",
     "text": [
      "\n",
      "*******************************\n",
      " ENTITIES : \n",
      "\n",
      "Processing  0\n",
      "Processing  1\n",
      "Processing  2\n",
      "Processing  3\n",
      "Processing  4\n",
      "Processing  5\n",
      "Processing  6\n",
      "Processing  7\n",
      "Processing  8\n",
      "Processing  9\n",
      "Processing  10\n",
      "Processing  11\n",
      "Processing  12\n",
      "[[[['MUMBAI', 'LOCATION'], ['Enforcement', 'ORGANIZATION'], ['Directorate', 'ORGANIZATION'], ['ICICI', 'ORGANIZATION'], ['Bank', 'ORGANIZATION'], ['Chanda', 'PERSON'], ['Kochhar', 'PERSON'], ['Deepak', 'PERSON'], ['two', 'NUMBER']], [], [['now', 'DATE']], [], [], [], [['Videocon', 'ORGANIZATION'], ['Essar', 'ORGANIZATION'], ['Group', 'ORGANIZATION']], [['now', 'DATE'], ['Deepak', 'PERSON'], ['Kochhar', 'PERSON'], ['NuPower', 'ORGANIZATION'], ['Renewables', 'ORGANIZATION'], ['NRL', 'ORGANIZATION'], ['Videocon', 'ORGANIZATION'], ['ICICI', 'ORGANIZATION'], ['Bank', 'ORGANIZATION'], ['Chanda', 'PERSON'], ['Kochhar', 'PERSON']], [['Now', 'DATE']], [['Firstland', 'ORGANIZATION'], ['Holdings', 'ORGANIZATION'], ['Matix', 'ORGANIZATION'], ['Group', 'ORGANIZATION'], ['Mauritius-based', 'MISC']], [['Firstland', 'ORGANIZATION'], ['Holdings', 'ORGANIZATION'], ['Nishant', 'PERSON'], ['Kanodia', 'PERSON'], ['Essar', 'ORGANIZATION'], ['Group', 'ORGANIZATION'], ['Ravi', 'PERSON'], ['Ruia.The', 'PERSON'], ['two', 'NUMBER']], [['first', 'ORDINAL'], ['Videocon', 'ORGANIZATION'], ['NRL', 'ORGANIZATION']], [['one', 'DURATION'], ['day', 'DURATION'], ['Rs', 'MISC'], ['300', 'NUMBER'], ['ICICI', 'ORGANIZATION'], ['Bank', 'ORGANIZATION'], ['64', 'NUMBER'], ['Dhoot', 'PERSON'], ['NRL', 'ORGANIZATION'], ['Supreme', 'ORGANIZATION'], ['Energy', 'ORGANIZATION'], ['Pvt', 'ORGANIZATION'], ['Ltd', 'ORGANIZATION']], [['68328106', 'NUMBER'], ['The', 'DATE'], ['second', 'DATE'], ['NRL', 'ORGANIZATION'], ['Firstland', 'ORGANIZATION'], ['Holdings', 'ORGANIZATION']], [['Essar', 'ORGANIZATION'], ['Group', 'ORGANIZATION'], ['163', 'NUMBER'], ['Firstland', 'LOCATION'], ['324.37', 'NUMBER'], ['December', 'DATE'], ['2010', 'DATE'], ['March', 'DATE'], ['2012', 'DATE']], [['August', 'DATE'], ['2015', 'DATE'], ['Essar', 'ORGANIZATION'], ['Projects', 'ORGANIZATION'], ['India', 'ORGANIZATION'], ['250', 'NUMBER']], [['ICICI', 'ORGANIZATION'], ['Bank', 'ORGANIZATION'], ['Essar', 'ORGANIZATION'], ['now', 'DATE'], ['US', 'LOCATION'], ['Minnesota', 'LOCATION'], ['UK', 'LOCATION'], ['Stanlow', 'LOCATION']], [['two', 'NUMBER']], [['September', 'DATE'], ['7', 'DATE'], [',', 'DATE'], ['2009', 'DATE'], ['300', 'NUMBER'], ['Videocon', 'ORGANIZATION'], ['International', 'ORGANIZATION'], ['Electronics', 'ORGANIZATION'], ['Ltd', 'ORGANIZATION'], ['next', 'DATE'], ['day', 'DATE'], ['64', 'NUMBER'], ['NRL', 'ORGANIZATION'], ['Deepak', 'PERSON'], ['Kochhar', 'PERSON']], [['Firstland', 'ORGANIZATION'], ['Holdings', 'ORGANIZATION']], [], [['Mumbai', 'LOCATION'], ['CCI', 'ORGANIZATION'], ['Chambers', 'ORGANIZATION'], ['Videocon', 'ORGANIZATION'], ['2009', 'DATE'], ['and', 'DATE'], ['2016', 'DATE']], [['Quality', 'ORGANIZATION'], ['Appliances', 'ORGANIZATION'], ['Pvt', 'ORGANIZATION'], ['Ltd', 'ORGANIZATION'], ['now', 'DATE'], ['Quality', 'ORGANIZATION'], ['Techno', 'ORGANIZATION'], ['Advisors', 'ORGANIZATION'], ['Pvt', 'ORGANIZATION'], ['Ltd', 'ORGANIZATION'], ['Videocon', 'ORGANIZATION'], ['Group', 'ORGANIZATION'], ['March', 'DATE'], ['2016', 'DATE']], [['Deepak', 'PERSON'], ['Kochhar', 'PERSON'], ['2016', 'DATE']], [['1998', 'DATE'], ['Videocon', 'ORGANIZATION'], ['2009', 'DATE'], ['two', 'NUMBER']], [['BN', 'PERSON'], ['Srikrishna', 'PERSON'], ['ICICI', 'ORGANIZATION'], ['Bank', 'ORGANIZATION'], ['Chanda', 'PERSON'], ['Kochhar', 'PERSON']], [['BN', 'PERSON'], ['Srikrishna', 'PERSON'], ['Kochhar', 'PERSON'], ['current', 'DATE']], [['Videocon', 'ORGANIZATION']], [['Deepak', 'PERSON'], ['Kochhar', 'PERSON']], [['Kocchar', 'PERSON'], ['second', 'ORDINAL']], [['CCI', 'ORGANIZATION'], ['Bilquis', 'PERSON'], ['Jahan', 'PERSON'], ['Begum', 'PERSON'], ['February', 'DATE'], ['1996', 'DATE']], [], [['Central', 'ORGANIZATION'], ['Bureau', 'ORGANIZATION'], ['of', 'ORGANIZATION'], ['Investigation', 'ORGANIZATION'], ['Kochhar', 'PERSON'], ['64', 'NUMBER']], [['August', 'DATE'], ['26', 'DATE'], [',', 'DATE'], ['2009', 'DATE'], ['Chanda', 'PERSON'], ['Kochhar', 'PERSON'], ['300', 'NUMBER'], ['CBI', 'ORGANIZATION'], ['first', 'ORDINAL']], [['September', 'DATE'], ['7', 'DATE'], [',', 'DATE'], ['2009', 'DATE'], ['September', 'DATE'], ['8', 'DATE'], [',', 'DATE'], ['2009', 'DATE'], ['Dhoot', 'PERSON'], ['64', 'NUMBER'], ['NRL', 'ORGANIZATION'], ['Deepak', 'PERSON'], ['Kochhar', 'PERSON'], ['first', 'ORDINAL'], ['NRL', 'ORGANIZATION'], ['first', 'ORDINAL']], [['Matix', 'ORGANIZATION'], ['Fertilisers', 'ORGANIZATION'], ['Mauritius-registered', 'MISC'], ['Matix', 'ORGANIZATION'], ['Fertiliser', 'ORGANIZATION'], ['Holdings', 'ORGANIZATION']], [['Firstland', 'ORGANIZATION'], ['Holdings', 'ORGANIZATION'], ['Ltd', 'ORGANIZATION'], ['December', 'DATE'], ['31', 'DATE'], [',', 'DATE'], ['2010', 'DATE'], ['four', 'NUMBER']], [['first', 'ORDINAL'], ['499,048', 'NUMBER'], ['1,000', 'NUMBER'], ['Firstland', 'ORGANIZATION'], ['Holdings', 'ORGANIZATION'], ['49.90', 'NUMBER'], ['March', 'DATE'], ['21', 'DATE'], [',', 'DATE'], ['2012', 'DATE'], ['1,665,338', 'NUMBER'], ['166.53', 'NUMBER'], ['December', 'DATE'], ['2010', 'DATE'], ['August', 'DATE'], ['2011', 'DATE'], ['Essar', 'ORGANIZATION'], ['Capital', 'ORGANIZATION'], ['Holdings', 'ORGANIZATION'], ['-', 'ORGANIZATION'], ['an', 'ORGANIZATION'], ['Essar', 'ORGANIZATION'], ['Group', 'ORGANIZATION'], ['Mauritius', 'LOCATION'], ['163.53', 'NUMBER'], ['three', 'NUMBER'], ['Matix', 'LOCATION']], [['first', 'ORDINAL'], ['46.58', 'NUMBER'], ['December', 'DATE'], ['2', 'DATE'], [',', 'DATE'], ['2010', 'DATE'], ['50.17', 'NUMBER'], ['a', 'DATE'], ['fortnight', 'DATE'], ['later', 'DATE'], ['December', 'DATE'], ['14', 'DATE'], ['third', 'ORDINAL'], ['March', 'DATE'], ['9', 'DATE'], [',', 'DATE'], ['2011', 'DATE'], ['66.78', 'NUMBER']]], [[['India', 'LOCATION'], ['London', 'LOCATION']], [['British', 'MISC'], ['daily', 'SET'], ['Nirav', 'PERSON'], ['Modi', 'PERSON'], ['PNB', 'ORGANIZATION'], ['Oxford', 'LOCATION'], ['Street', 'LOCATION'], ['Soho', 'LOCATION']], [['48-year-old', 'DURATION'], ['Rs', 'MISC'], ['14,000', 'NUMBER'], ['now', 'DATE']], [['Nirav', 'PERSON'], ['Modi', 'PERSON'], ['London', 'LOCATION'], ['Raveesh', 'PERSON'], ['Kumar', 'PERSON'], ['Nirav', 'PERSON'], ['Modi', 'PERSON']], [['UK', 'LOCATION']], [], [['Modi', 'PERSON'], ['Mehul', 'PERSON'], ['Choksi', 'PERSON'], ['India', 'LOCATION'], ['the', 'DATE'], ['first', 'DATE'], ['week', 'DATE'], ['of', 'DATE'], ['January', 'DATE'], ['last', 'DATE'], ['year', 'DATE'], ['PNB', 'ORGANIZATION'], ['14,000', 'NUMBER']], [['India', 'LOCATION']], [['Modi', 'PERSON']], [['Indian', 'MISC'], ['Modi', 'PERSON'], ['London', 'LOCATION'], ['Daily', 'SET'], ['Modi', 'PERSON'], ['#', 'MONEY'], ['8', 'MONEY'], ['million', 'MONEY'], ['Tottenham', 'LOCATION'], ['Court', 'LOCATION'], ['Road', 'LOCATION'], ['#', 'MONEY'], ['17,000', 'MONEY'], ['a', 'DURATION'], ['month', 'DURATION']], [['now', 'DATE'], ['hundred', 'NUMBER']], [['Telegraph', 'ORGANIZATION'], ['Nirav', 'PERSON'], ['Modi', 'PERSON'], ['1552075415000', 'NUMBER'], ['Telegraph', 'ORGANIZATION'], ['Modi', 'PERSON'], ['each', 'SET'], ['day', 'SET'], ['Soho', 'LOCATION'], ['hundred', 'NUMBER']], [['Telegraph', 'ORGANIZATION'], ['Modi', 'PERSON'], ['recent', 'DURATION'], ['months', 'DURATION'], ['UK', 'LOCATION'], ['Indian', 'MISC']], [['London', 'LOCATION']], [['British', 'MISC'], ['Interpol', 'ORGANIZATION']], [['India', 'LOCATION'], ['48-year-old', 'DURATION'], ['Britain', 'LOCATION'], ['last', 'DATE'], ['August', 'DATE']], [['Sajid', 'PERSON'], ['Javid', 'PERSON'], ['English', 'MISC']], [['68329290', 'NUMBER'], ['Soho', 'LOCATION'], ['Modi', 'PERSON'], ['Telegraph', 'ORGANIZATION'], ['UK', 'LOCATION']], [['Modi', 'PERSON']], [['Modi', 'PERSON'], ['Alibaug', 'LOCATION'], ['Friday', 'DATE']]], [[['MUMBAI', 'LOCATION'], ['Citi', 'ORGANIZATION'], ['Ashu', 'PERSON'], ['Khullar', 'PERSON'], ['Pramit', 'PERSON'], ['Jhaveri', 'PERSON'], ['India', 'LOCATION'], ['April', 'DATE'], ['1', 'DATE']], [['Citi', 'ORGANIZATION'], ['India', 'ORGANIZATION']], [['Khullar', 'PERSON'], ['currently', 'DATE'], ['Hong', 'LOCATION'], ['Kong', 'LOCATION'], ['Asia', 'ORGANIZATION'], ['Pacific', 'ORGANIZATION'], ['Head', 'ORGANIZATION'], ['of', 'ORGANIZATION'], ['Capital', 'ORGANIZATION'], ['Market', 'ORGANIZATION'], ['Origination', 'ORGANIZATION'], ['Citigroup', 'ORGANIZATION'], ['Inc', 'ORGANIZATION'], ['Kenneth', 'PERSON'], ['Poon', 'PERSON']], [['this', 'DATE'], ['weekend', 'DATE']], [['Reserve', 'ORGANIZATION'], ['Bank', 'ORGANIZATION'], ['of', 'ORGANIZATION'], ['India', 'ORGANIZATION']], [['Khullar', 'PERSON'], ['Europe', 'LOCATION'], ['Middle', 'LOCATION'], ['East', 'LOCATION'], ['Africa', 'LOCATION'], ['30-year', 'DURATION'], ['Citi', 'ORGANIZATION'], ['India', 'LOCATION'], ['Khullar', 'LOCATION'], ['Shri', 'ORGANIZATION'], ['Ram', 'ORGANIZATION'], ['College', 'ORGANIZATION'], ['of', 'ORGANIZATION'], ['Commerce', 'ORGANIZATION'], ['Indian', 'ORGANIZATION'], ['Institute', 'ORGANIZATION'], ['of', 'ORGANIZATION'], ['Management', 'ORGANIZATION'], ['Ahmedabad', 'ORGANIZATION'], ['London', 'LOCATION'], ['1996', 'DATE'], ['Asia', 'LOCATION'], ['Hong', 'PERSON'], ['Kong.Unlike', 'PERSON'], ['Citi', 'ORGANIZATION'], ['Asian', 'MISC'], ['Citigroup', 'ORGANIZATION'], ['Francisco', 'PERSON'], ['A', 'PERSON'], ['Aristeguieta', 'PERSON'], ['2015', 'DATE']], [['Gary', 'PERSON'], ['Keefe', 'PERSON'], ['Asia', 'LOCATION'], ['Pacific', 'LOCATION'], ['Japan', 'LOCATION'], ['Aristeguieta', 'PERSON'], ['HSBC', 'ORGANIZATION'], ['Citi', 'ORGANIZATION'], ['Vikram', 'PERSON'], ['Pandit', 'PERSON'], ['2008', 'DATE']], [['Citi', 'ORGANIZATION'], ['Lehman', 'ORGANIZATION'], ['two', 'NUMBER'], ['Citicorp', 'ORGANIZATION'], ['Citi', 'ORGANIZATION'], ['April', 'DATE'], ['Jhaveri', 'PERSON'], ['Citi', 'ORGANIZATION'], ['Asia', 'LOCATION'], ['Pacific', 'LOCATION'], ['nine-year', 'DURATION'], ['India', 'LOCATION'], ['India', 'ORGANIZATION'], ['Inc.', 'ORGANIZATION']], [['March', 'DATE'], ['2010', 'DATE'], ['Mark', 'PERSON'], ['Robinson', 'PERSON'], ['Citi', 'ORGANIZATION'], ['2008', 'DATE'], ['one', 'NUMBER'], ['India', 'LOCATION'], ['Indian', 'MISC'], ['0.55', 'PERCENT'], ['%', 'PERCENT'], ['March', 'DATE'], ['31', 'DATE'], [',', 'DATE'], ['2018', 'DATE']], [['January', 'DATE'], ['RBI', 'MISC'], ['3', 'NUMBER'], ['4', 'NUMBER'], ['recently', 'DATE'], ['India', 'LOCATION']], [['RBI', 'MISC'], ['19', 'NUMBER'], ['State', 'ORGANIZATION'], ['Bank', 'ORGANIZATION'], ['of', 'ORGANIZATION'], ['India', 'ORGANIZATION'], ['Citi', 'ORGANIZATION'], ['India', 'ORGANIZATION']], [['Khullar', 'PERSON'], ['Ravi', 'PERSON'], ['Kapoor', 'PERSON'], ['Citi', 'ORGANIZATION'], ['India', 'ORGANIZATION'], ['K', 'PERSON'], ['Balasubramanian', 'PERSON'], ['recently', 'DATE'], ['HDFC', 'ORGANIZATION'], ['Bank', 'ORGANIZATION'], ['January', 'DATE'], ['25', 'DATE']]], [[['China', 'LOCATION'], ['2008', 'DATE'], ['and', 'DATE'], ['2016', 'DATE'], ['1.7', 'PERCENT'], ['percentage', 'PERCENT'], ['points', 'PERCENT'], ['Chinese', 'ORGANIZATION'], ['University', 'ORGANIZATION'], ['of', 'ORGANIZATION'], ['Hong', 'ORGANIZATION'], ['Kong', 'ORGANIZATION'], ['University', 'ORGANIZATION'], ['of', 'ORGANIZATION'], ['Chicago.The', 'ORGANIZATION'], ['Brookings', 'ORGANIZATION'], ['Institution', 'ORGANIZATION']], [['Beijing-based', 'MISC'], ['National', 'ORGANIZATION'], ['Bureau', 'ORGANIZATION'], ['of', 'ORGANIZATION'], ['Statistics', 'ORGANIZATION'], ['2008', 'DATE'], ['Wei', 'PERSON'], ['Chen', 'PERSON'], ['Xilu', 'PERSON'], ['Chen', 'PERSON'], ['Chang-Tai', 'PERSON'], ['Hsieh', 'PERSON'], ['Zheng', 'PERSON'], ['Song', 'PERSON']], [['2008', 'DATE'], ['NBS', 'ORGANIZATION']], [['night', 'TIME'], ['gross', 'NUMBER'], ['second', 'ORDINAL'], ['Chinese', 'MISC'], ['2008', 'DATE'], ['NBS', 'ORGANIZATION']], [['10', 'PERCENT'], ['percent', 'PERCENT'], ['recent', 'DURATION'], ['years', 'DURATION']], [['last', 'DATE'], ['year', 'DATE'], ['the', 'DATE'], ['past', 'DATE'], ['2019', 'DATE'], ['31', 'NUMBER'], ['Bloomberg', 'ORGANIZATION'], ['Economics', 'ORGANIZATION'], ['China', 'LOCATION'], ['NBS', 'ORGANIZATION'], ['the', 'DATE'], ['1990s', 'DATE'], ['China', 'LOCATION']], [['Bloomberg', 'ORGANIZATION'], ['once', 'DATE'], ['China', 'LOCATION'], ['Bloomberg', 'ORGANIZATION'], ['Economics', 'ORGANIZATION'], ['Tom', 'PERSON'], ['OrlikClick', 'PERSON'], ['Bloomberg', 'ORGANIZATION'], ['Economics', 'ORGANIZATION']]], [[['NEW', 'LOCATION'], ['DELHI', 'LOCATION'], ['6-7', 'NUMBER'], ['two', 'DURATION'], ['years', 'DURATION'], ['one', 'DURATION'], ['year', 'DURATION'], ['7-8', 'NUMBER'], ['NCR', 'ORGANIZATION'], ['Mumbai', 'LOCATION'], ['MMR', 'ORGANIZATION'], ['Piyush', 'PERSON'], ['Goyal', 'PERSON'], ['one', 'DURATION'], ['year', 'DURATION'], ['two', 'DURATION'], ['years', 'DURATION']], [['the', 'DATE'], ['end', 'DATE'], ['of', 'DATE'], ['the', 'DATE'], ['year', 'DATE'], ['ANAROCK', 'ORGANIZATION'], ['Anuj', 'PERSON'], ['Puri', 'PERSON'], ['currently', 'DATE'], ['6.73', 'NUMBER'], ['7', 'NUMBER']], [['1,86,710', 'NUMBER'], ['MMR', 'ORGANIZATION'], ['2,19,490', 'NUMBER'], ['Oswal', 'ORGANIZATION'], ['Real', 'ORGANIZATION'], ['Estate', 'ORGANIZATION'], ['Fund', 'ORGANIZATION'], ['Head', 'ORGANIZATION'], ['Sharad', 'ORGANIZATION'], ['Mittal', 'ORGANIZATION']], [['Dhiraj', 'PERSON'], ['Jain', 'PERSON'], ['Sumadhura', 'ORGANIZATION'], ['Group', 'ORGANIZATION'], ['CMD', 'ORGANIZATION'], ['Madhusudhan', 'ORGANIZATION'], ['G', 'ORGANIZATION']], [['5', 'NUMBER'], ['second', 'ORDINAL']], [], [['Century', 'ORGANIZATION'], ['Real', 'ORGANIZATION'], ['Estate', 'ORGANIZATION'], ['MD', 'ORGANIZATION'], ['Ravindra', 'ORGANIZATION'], ['Pai', 'ORGANIZATION'], ['Manoj', 'PERSON'], ['Gaur', 'PERSON'], ['Gulsan', 'PERSON'], ['Homz', 'PERSON'], ['Deepak', 'PERSON'], ['Kapoor', 'PERSON'], ['5', 'NUMBER'], ['now', 'DATE'], ['Prashant', 'PERSON'], ['Tiwari', 'PERSON'], ['100', 'NUMBER'], ['Ashok', 'PERSON'], ['Gupta', 'PERSON'], ['5', 'NUMBER'], ['Pradeep', 'PERSON'], ['Aggarwal', 'PERSON']], [['Tanuj', 'PERSON'], ['Shori', 'PERSON'], ['Budget', 'ORGANIZATION'], ['Parveen', 'PERSON'], ['Jain', 'PERSON'], ['Budget', 'ORGANIZATION'], ['Prashant', 'PERSON'], ['Solomon', 'PERSON'], ['one', 'NUMBER']], [['Rattan', 'PERSON'], ['Hawelia', 'PERSON'], ['Boman', 'PERSON'], ['R', 'PERSON'], ['Irani', 'PERSON'], ['second', 'ORDINAL']], [['1', 'DURATION'], ['year', 'DURATION'], ['2', 'DURATION'], ['years', 'DURATION']], [['Shailesh', 'PERSON'], ['Puranik', 'PERSON'], ['one', 'DURATION'], ['year', 'DURATION'], ['second', 'ORDINAL']], [['ASF', 'ORGANIZATION'], ['Anil', 'PERSON'], ['Saraf', 'PERSON']], [['Samir', 'PERSON'], ['Jasuja', 'PERSON'], ['Gupta', 'PERSON']], [['Ruparel', 'ORGANIZATION'], ['Realty', 'ORGANIZATION'], ['Amit', 'PERSON'], ['Ruparel', 'PERSON'], ['property.India', 'ORGANIZATION'], ['Mortgage', 'ORGANIZATION'], ['Guarantee', 'ORGANIZATION'], ['Corporation', 'ORGANIZATION'], ['Mahesh', 'PERSON'], ['Misra', 'PERSON'], ['2nd', 'ORDINAL'], ['Property', 'ORGANIZATION'], ['Development', 'ORGANIZATION'], ['Services', 'ORGANIZATION'], ['CMD', 'ORGANIZATION'], ['Sankey', 'ORGANIZATION'], ['Prasad', 'ORGANIZATION'], ['Rahul', 'PERSON'], ['Shah', 'PERSON'], ['Sowparnika', 'ORGANIZATION'], ['Projects', 'ORGANIZATION'], ['Ramji', 'PERSON'], ['Subramaniam', 'PERSON'], ['Global', 'ORGANIZATION'], ['Investments', 'ORGANIZATION'], ['Mona', 'PERSON'], ['Jalota', 'PERSON']], [['India', 'LOCATION'], ['Assetz', 'ORGANIZATION'], ['Shivam', 'PERSON'], ['Sinha', 'PERSON'], ['2019', 'DATE']], [['Sakshi', 'PERSON'], ['Katiyal', 'PERSON'], ['Wealth', 'ORGANIZATION'], ['Clinic', 'ORGANIZATION'], ['Amit', 'PERSON'], ['Raheja', 'PERSON'], ['Central', 'ORGANIZATION'], ['Secretariat', 'ORGANIZATION'], ['Service', 'ORGANIZATION'], ['Officers', 'ORGANIZATION'], ['Society', 'ORGANIZATION'], ['Saurabh', 'PERSON'], ['Garg', 'PERSON']], [['Pankaj', 'PERSON'], ['Jain', 'PERSON']]], [[['50', 'DURATION'], ['days', 'DURATION'], ['Chaitanya', 'PERSON'], ['Hari', 'PERSON'], ['IL&FS', 'ORGANIZATION'], ['Transportation', 'ORGANIZATION'], ['Network', 'ORGANIZATION'], ['Ltd', 'ORGANIZATION'], ['Ethiopia', 'LOCATION'], ['Tuesday', 'DATE'], ['Hari', 'PERSON'], ['three', 'NUMBER'], ['Exim', 'ORGANIZATION'], ['Bank', 'ORGANIZATION'], ['ITNL', 'ORGANIZATION']], [['Ethiopian', 'ORGANIZATION'], ['Commercial', 'ORGANIZATION'], ['Bank', 'ORGANIZATION'], ['now', 'DATE'], ['Sukhvinder', 'PERSON'], ['Singh', 'PERSON'], ['Bishnu', 'PERSON'], ['Nagaraju', 'PERSON'], ['Khurram', 'PERSON'], ['Imam', 'PERSON'], ['Hari', 'PERSON'], ['ITNL', 'ORGANIZATION']], [['10', 'DURATION'], ['months', 'DURATION'], ['now', 'DATE'], ['four', 'DURATION'], ['months', 'DURATION']], [['$', 'MONEY'], ['200,000', 'MONEY'], ['IL&FS', 'ORGANIZATION'], ['a', 'DURATION'], ['month', 'DURATION'], ['now', 'DATE']], [['67550258', 'NUMBER'], ['450', 'NUMBER'], ['Addis', 'LOCATION'], ['Ababa', 'LOCATION'], ['three', 'NUMBER'], ['ITNL', 'ORGANIZATION'], ['a', 'DURATION'], ['few', 'DURATION'], ['weeks', 'DURATION'], ['$', 'MONEY'], ['1.5', 'MONEY'], ['million', 'MONEY']], [['two', 'NUMBER'], ['now', 'DATE']], [['third', 'ORDINAL'], ['Chandra', 'PERSON'], ['Sekhar', 'PERSON'], ['Ethiopia', 'LOCATION'], ['India', 'LOCATION'], ['Indian', 'MISC'], ['Tuesday', 'DATE'], ['IL&FS', 'ORGANIZATION']], [['1', 'NUMBER'], ['ITNL', 'ORGANIZATION'], ['India.IL', 'ORGANIZATION'], ['&', 'ORGANIZATION'], ['FS', 'ORGANIZATION'], ['Group', 'ORGANIZATION'], ['ITNL', 'ORGANIZATION']], [['Ethiopia', 'LOCATION'], ['India', 'LOCATION'], ['Indian', 'MISC']]], [[['NEW', 'LOCATION'], ['DELHI', 'LOCATION'], ['Patanjali', 'ORGANIZATION'], ['Ayurved', 'ORGANIZATION'], ['Baba', 'PERSON'], ['Ramdev', 'PERSON'], ['FMCG', 'ORGANIZATION'], ['Hindustan', 'ORGANIZATION'], ['Unilever', 'ORGANIZATION'], ['Limited', 'ORGANIZATION'], ['Indian', 'MISC'], ['Friday', 'DATE']], [['India', 'LOCATION']], [['Ramdev', 'PERSON']], [['India', 'LOCATION']], [['India', 'LOCATION']], [['Kumbh', 'PERSON'], ['Mela', 'PERSON']], [['two', 'NUMBER'], ['HUL', 'ORGANIZATION']]], [[['MUMBAI', 'LOCATION'], ['Jet', 'ORGANIZATION'], ['Airways', 'ORGANIZATION'], ['750', 'NUMBER']], [['49', 'PERCENT'], ['%', 'PERCENT']], [['PNB', 'ORGANIZATION'], ['500', 'NUMBER'], ['two', 'NUMBER'], ['Jet', 'ORGANIZATION'], ['Airways', 'ORGANIZATION']], [['49', 'PERCENT'], ['%', 'PERCENT']], [['PNB', 'ORGANIZATION'], ['1,000', 'NUMBER']], [['Naresh', 'PERSON'], ['Goyal', 'PERSON'], ['Etihad', 'ORGANIZATION'], ['Airlines', 'ORGANIZATION'], ['750', 'NUMBER'], ['PNB', 'ORGANIZATION'], ['500', 'NUMBER']], [['Etihad', 'ORGANIZATION'], ['Goyal', 'PERSON']], [['119', 'NUMBER'], ['70', 'NUMBER'], ['September', 'DATE'], ['2018', 'DATE'], ['124', 'NUMBER'], ['16', 'NUMBER']], [['68330417', 'NUMBER'], ['Thursday', 'DATE'], ['SBI', 'ORGANIZATION'], ['Rajnish', 'PERSON'], ['Kumar', 'PERSON'], ['Jet', 'ORGANIZATION'], ['Airways', 'ORGANIZATION']], [], [['Kumar', 'PERSON'], ['three', 'NUMBER']], [], [['SBI', 'ORGANIZATION'], ['Reuters', 'ORGANIZATION'], ['Colm', 'PERSON'], ['Barrington', 'PERSON']]], [[['Bloomberg', 'ORGANIZATION'], ['NewsA', 'ORGANIZATION'], ['Hong', 'ORGANIZATION'], ['Kong', 'ORGANIZATION'], ['Ding', 'ORGANIZATION'], ['Yi', 'ORGANIZATION'], ['Feng', 'ORGANIZATION'], ['Holdings', 'ORGANIZATION'], ['Ltd.', 'ORGANIZATION'], ['Hong', 'LOCATION'], ['Kong', 'LOCATION'], ['8,500', 'PERCENT'], ['percent', 'PERCENT'], ['the', 'DURATION'], ['past', 'DURATION'], ['five', 'DURATION'], ['years', 'DURATION'], ['MSCI', 'MISC'], ['All-Country', 'MISC'], ['World', 'MISC'], ['Index', 'MISC'], ['Hong', 'LOCATION'], ['Kong', 'LOCATION'], ['Securities', 'ORGANIZATION'], ['and', 'ORGANIZATION'], ['Futures', 'ORGANIZATION'], ['Commission', 'ORGANIZATION'], ['Friday', 'DATE']], [['SFC', 'ORGANIZATION'], ['recent', 'DURATION'], ['months', 'DURATION']], [['Hong', 'LOCATION'], ['Kong', 'LOCATION'], ['last', 'DATE'], ['month', 'DATE'], ['one', 'NUMBER']], [['Chinese', 'MISC'], ['Sui', 'PERSON'], ['Guangyi', 'PERSON'], ['Taoist', 'MISC'], ['Warren', 'PERSON'], ['Buffett', 'PERSON'], ['George', 'PERSON'], ['Soros.Spokesmen', 'PERSON'], ['SFC', 'ORGANIZATION'], ['Hong', 'ORGANIZATION'], ['Kong', 'ORGANIZATION'], ['Exchanges', 'ORGANIZATION'], ['&', 'ORGANIZATION'], ['Clearing', 'ORGANIZATION'], ['Ltd.', 'ORGANIZATION'], ['Hong', 'LOCATION'], ['Kong', 'LOCATION'], ['one', 'NUMBER']], [['MSCI', 'ORGANIZATION'], ['Inc.', 'ORGANIZATION'], ['November', 'DATE'], ['BlackRock', 'ORGANIZATION'], ['Inc.', 'ORGANIZATION'], ['Vanguard', 'ORGANIZATION'], ['Group', 'ORGANIZATION'], ['Inc.', 'ORGANIZATION'], ['Northern', 'ORGANIZATION'], ['Trust', 'ORGANIZATION'], ['Corp.', 'ORGANIZATION'], ['MSCI', 'ORGANIZATION'], ['HKEX', 'ORGANIZATION'], ['David', 'PERSON'], ['Webb', 'PERSON'], ['trillions', 'MONEY'], ['of', 'MONEY'], ['dollars', 'MONEY']], [['MSCI', 'ORGANIZATION'], ['Hang', 'ORGANIZATION'], ['Seng', 'ORGANIZATION'], ['Indexes', 'ORGANIZATION'], ['Co.', 'ORGANIZATION'], ['Ltd.', 'ORGANIZATION'], ['DYF', 'ORGANIZATION'], ['Composite', 'MISC'], ['LargeCap', 'MISC'], ['&', 'MISC'], ['MidCap', 'MISC'], ['Index', 'MISC'], ['February', 'DATE'], ['two', 'NUMBER']], [['MSCI', 'ORGANIZATION'], ['DYF.Bloomberg', 'ORGANIZATION'], ['LP', 'ORGANIZATION'], ['Bloomberg', 'ORGANIZATION'], ['News', 'ORGANIZATION'], ['MSCI', 'ORGANIZATION'], ['commodities.Smartac', 'ORGANIZATION'], ['Group', 'ORGANIZATION'], ['China', 'ORGANIZATION'], ['Holdings', 'ORGANIZATION'], ['Ltd.', 'ORGANIZATION'], ['Hong', 'LOCATION'], ['Kong-listed', 'LOCATION'], ['the', 'DATE'], ['end', 'DATE'], ['of', 'DATE'], ['last', 'DATE'], ['year', 'DATE'], ['44', 'PERCENT'], ['percent', 'PERCENT'], ['Friday', 'DATE']]], [[], [['8,000', 'NUMBER'], ['68321432', 'NUMBER'], ['68303756', 'NUMBER'], ['68300297', 'NUMBER'], ['Nilesh', 'PERSON'], ['Shah', 'PERSON'], ['Kotak', 'ORGANIZATION'], ['AMC', 'ORGANIZATION'], ['AMFI', 'ORGANIZATION']], [['0.2', 'NUMBER']], [], [['Rs', 'MISC'], ['9,279', 'NUMBER']], [['the', 'DURATION'], ['first', 'DURATION'], ['month', 'DURATION']], [], [], [['8,000', 'NUMBER']], [['month', 'DURATION']], [], [], [], [], [['two', 'NUMBER'], ['one', 'NUMBER']], [], [['September', 'DATE'], ['2013', 'DATE'], ['Sensex', 'MISC'], ['18000', 'NUMBER']], [], [], [], [['once', 'DATE']], [], [], [], [['one', 'NUMBER']], [['NBFC', 'ORGANIZATION']], [], [], [['75,000', 'NUMBER']], [], [['15th', 'DATE'], ['of', 'DATE'], ['March', 'DATE']], [['15th', 'DATE'], ['Feb', 'DATE'], ['15th', 'DATE'], ['March', 'DATE'], ['15th', 'DATE'], ['March', 'DATE'], ['one', 'NUMBER']], []], [[['USD', 'MONEY'], ['7', 'MONEY'], ['billion', 'MONEY'], ['2018', 'DATE'], ['India', 'LOCATION'], ['2019', 'DATE'], ['IVCA', 'ORGANIZATION'], ['2019', 'DATE'], ['OYO', 'LOCATION'], ['Pine', 'ORGANIZATION'], ['Labs', 'ORGANIZATION'], ['Zomato', 'LOCATION'], ['Udaan', 'LOCATION'], ['USD', 'MONEY'], ['4.6', 'MONEY'], ['billion', 'MONEY'], ['2018', 'DATE'], ['Walmart', 'ORGANIZATION'], ['Flipkart', 'LOCATION'], ['16', 'MONEY'], ['billion', 'MONEY'], ['Alibaba', 'ORGANIZATION'], ['Tencent', 'ORGANIZATION'], ['Naspers', 'ORGANIZATION'], ['Byjus', 'LOCATION']], [['Indian', 'MISC'], ['2018', 'DATE'], ['India', 'LOCATION'], ['one', 'NUMBER'], ['Ankur', 'PERSON'], ['Pahwa', 'PERSON'], ['Consumer', 'MISC'], ['Internet', 'MISC'], ['2019', 'DATE']]], [[['Supreme', 'ORGANIZATION'], ['Court', 'ORGANIZATION'], ['Friday', 'DATE'], ['CBI', 'ORGANIZATION'], ['Delhi', 'ORGANIZATION'], ['High', 'ORGANIZATION'], ['Court', 'ORGANIZATION'], ['2005', 'DATE'], ['Hinduja', 'ORGANIZATION'], ['64', 'NUMBER'], ['Bofors', 'ORGANIZATION'], ['Ranjan', 'PERSON'], ['Gogoi', 'PERSON'], ['CBI', 'ORGANIZATION'], ['the', 'DURATION'], ['13', 'DURATION'], ['year', 'DURATION'], ['May', 'DATE'], ['31', 'DATE'], [',', 'DATE'], ['2005', 'DATE'], ['CBI', 'ORGANIZATION'], ['4,500', 'DURATION'], ['days', 'DURATION']], [['CBI', 'ORGANIZATION'], ['February', 'DATE'], ['2', 'DATE'], ['CBI', 'ORGANIZATION'], ['Ajay', 'PERSON'], ['Agrawal', 'PERSON'], ['Agrawal', 'PERSON'], ['2014', 'DATE'], ['Lok', 'LOCATION'], ['Sabha', 'LOCATION'], ['Congress', 'ORGANIZATION'], ['Sonia', 'PERSON'], ['Gandhi', 'PERSON'], ['Rae', 'PERSON'], ['Bareilly.Attorney', 'PERSON'], ['General', 'PERSON'], ['K', 'PERSON'], ['K', 'PERSON'], ['Venugopal', 'PERSON'], ['CBI', 'ORGANIZATION'], ['2005', 'DATE'], ['three', 'NUMBER'], ['Hinduja', 'ORGANIZATION'], ['Hinduja', 'ORGANIZATION'], ['Hinduja', 'ORGANIZATION'], ['Prevention', 'MISC'], ['of', 'MISC'], ['Corruption', 'MISC'], ['NDA', 'ORGANIZATION'], ['CBI', 'ORGANIZATION'], ['Agrawal', 'PERSON'], ['CBI', 'ORGANIZATION'], ['this', 'DATE'], ['year', 'DATE'], ['NDA', 'ORGANIZATION'], ['K', 'PERSON'], ['K', 'PERSON'], ['Venugopal', 'PERSON'], ['January', 'DATE'], ['CBI', 'ORGANIZATION'], ['February', 'DATE'], ['October', 'DATE'], ['2017', 'DATE'], ['Michael', 'PERSON'], ['Hershman', 'PERSON'], ['Rajiv', 'MISC'], ['Gandhi-led', 'MISC'], ['Congress', 'ORGANIZATION'], ['US-based', 'MISC'], ['Fairfax', 'LOCATION'], ['Rajiv', 'PERSON'], ['Gandhi', 'PERSON'], ['Swiss', 'MISC']], [['Bofors', 'ORGANIZATION'], ['Swiss', 'MISC'], ['CBI', 'ORGANIZATION'], ['Hershman', 'PERSON'], ['2005', 'DATE'], ['Sodhi', 'PERSON'], ['Delhi', 'ORGANIZATION'], ['High', 'ORGANIZATION'], ['Court', 'ORGANIZATION'], ['J', 'PERSON'], ['D', 'PERSON'], ['Kapoor', 'PERSON'], ['February', 'DATE'], ['4', 'DATE'], [',', 'DATE'], ['2004', 'DATE'], ['Rajiv', 'PERSON'], ['Gandhi', 'PERSON'], ['465', 'NUMBER'], ['Bofors', 'ORGANIZATION'], ['India', 'LOCATION'], ['Swedish', 'MISC'], ['AB', 'ORGANIZATION'], ['Bofors', 'ORGANIZATION'], ['400', 'NUMBER'], ['155', 'NUMBER'], ['Indian', 'ORGANIZATION'], ['Army', 'ORGANIZATION'], ['March', 'DATE'], ['24', 'DATE'], [',', 'DATE'], ['1986', 'DATE']], [['April', 'DATE'], ['16', 'DATE'], [',', 'DATE'], ['1987', 'DATE'], ['Indian', 'MISC'], ['January', 'DATE'], ['22', 'DATE'], [',', 'DATE'], ['1990', 'DATE'], ['FIR', 'ORGANIZATION'], ['Indian', 'MISC'], ['Penal', 'MISC'], ['Code', 'MISC'], ['Prevention', 'MISC'], ['of', 'MISC'], ['Corruption', 'MISC'], ['Act', 'MISC'], ['Martin', 'PERSON'], ['Ardbo', 'PERSON'], ['AB', 'ORGANIZATION'], ['Bofors', 'ORGANIZATION'], ['Chadda', 'PERSON'], ['India', 'LOCATION'], ['1982', 'DATE'], ['and', 'DATE'], ['1987', 'DATE'], ['first', 'ORDINAL'], ['October', 'DATE'], ['22', 'DATE'], [',', 'DATE'], ['1999', 'DATE'], ['Chadda', 'PERSON'], ['Ottavio', 'PERSON'], ['Quattrocchi', 'PERSON'], ['defence', 'ORGANIZATION'], ['S', 'PERSON'], ['K', 'PERSON'], ['Bhatnagar', 'PERSON'], ['Ardbo', 'PERSON'], ['Hinduja', 'ORGANIZATION'], ['October', 'DATE'], ['9', 'DATE'], [',', 'DATE'], ['2000', 'DATE']], [['CBI', 'ORGANIZATION'], ['Delhi', 'LOCATION'], ['March', 'DATE'], ['4', 'DATE'], [',', 'DATE'], ['2011', 'DATE'], ['Quattrocchi', 'PERSON'], ['250', 'NUMBER']]], [[['Confederation', 'ORGANIZATION'], ['of', 'ORGANIZATION'], ['Indian', 'ORGANIZATION'], ['Industry', 'ORGANIZATION'], ['one', 'NUMBER'], ['13.9', 'PERCENT'], ['%', 'PERCENT'], ['last', 'DATE'], ['four', 'DATE'], ['years', 'DATE'], ['3.3', 'PERCENT'], ['%', 'PERCENT']], [['450', 'NUMBER'], ['million', 'NUMBER'], ['2017-18', 'NUMBER'], ['13.5', 'NUMBER'], ['14.9', 'NUMBER'], ['million', 'NUMBER'], ['CII', 'ORGANIZATION'], ['105,347', 'NUMBER'], ['Maharashtra', 'LOCATION'], ['Gujarat', 'LOCATION'], ['Telangana', 'PERSON'], ['the', 'DURATION'], ['past', 'DURATION'], ['four', 'DURATION'], ['years', 'DURATION'], ['Maharashtra', 'LOCATION'], ['Tamil', 'LOCATION'], ['Nadu', 'LOCATION'], ['Telangana', 'PERSON'], ['three', 'NUMBER'], ['last', 'DATE'], ['four', 'DATE'], ['years', 'DATE']], [['the', 'DURATION'], ['next', 'DURATION'], ['three', 'DURATION'], ['years', 'DURATION'], ['2', 'PERCENT'], ['%', 'PERCENT'], ['recently', 'DATE'], ['future', 'DATE'], ['three', 'DURATION'], ['years', 'DURATION'], ['currently', 'DATE']], [], [['Rakesh', 'PERSON'], ['Bharti', 'PERSON'], ['Mittal', 'PERSON'], ['CII', 'ORGANIZATION'], ['105,347', 'NUMBER'], ['350', 'NUMBER'], ['28', 'NUMBER'], ['India', 'LOCATION']], []]]\n"
     ]
    }
   ],
   "source": [
    "print('\\n*******************************\\n ENTITIES : \\n')\n",
    "# **************** Algorithmia - Entities ****************\n",
    "#for t in text:\n",
    "#    print(t.values())\n",
    "#t.encode('ascii', 'ignore')\n",
    "#the OCR resutlt is again used to indentify entities like numbers, organizaions, date in the data by classifying them\n",
    "algo = client.algo('StanfordNLP/NamedEntityRecognition/0.2.0')\n",
    "list_Entities = []\n",
    "for x in range (len(text)):\n",
    "    print(\"Processing \",x)\n",
    "    response3 = algo.pipe(text[x]['description'])\n",
    "    j = []\n",
    "    for category in response3.result:\n",
    "        j.append(category)\n",
    "    list_Entities.append(j)\n",
    "print(list_Entities)"
   ]
  },
  {
   "cell_type": "raw",
   "metadata": {},
   "source": [
    "print('\\n*******************************\\n DOCUMENT SIMILARITY : \\n')\n",
    "# **************** Algorithmia - TextSimilarity ****************\n",
    "input = {\"files\": [[\"doc1\", \"the document about tigers\"], [\"doc2\", \"the movie about cars\"], [\"doc3\", \"the document about cats\"]]}\n",
    "print(input)\n",
    "#document similarity is checked from three other documents doc1, doc2, doc3 compared to files/our data \n",
    "algo = client.algo('PetiteProgrammer/TextSimilarity/0.1.2')\n",
    "print(algo.pipe(input).result)"
   ]
  },
  {
   "cell_type": "raw",
   "metadata": {},
   "source": [
    "print('\\n*******************************\\n SENTENCE PARSING : \\n')\n",
    "\"\"\"\n",
    "Parsing is a traditional grammatical exercise that involves breaking down a text into its component\n",
    "parts of speech with an explanation of the form, function, and syntactic relationship of each part.\n",
    "\"\"\"\n",
    "# **************** Algorithmia - SENTENCE PARSING ****************\n",
    "input = {\n",
    "  \"src\":\"Algorithmia is the best online platform available for machine learning and text analytics.\",\n",
    "  \"format\":\"conll\",\n",
    "  \"language\":\"english\"\n",
    "}\n",
    "#prepositions, nouns, verbs have been omitted from the text.\n",
    "algo = client.algo('deeplearning/Parsey/1.0.2')\n",
    "print(algo.pipe(input).result)"
   ]
  },
  {
   "cell_type": "raw",
   "metadata": {},
   "source": [
    "print('\\n*******************************\\n CO-REFERENCE : \\n')\n",
    "# ****************** CO REFERENCE **********************\n",
    "algo = client.algo('StanfordNLP/DeterministicCoreferenceResolution/0.1.1')\n",
    "\"\"\"\n",
    "Classifications where references are found, meaning full details that could be used from the data are resulted by this algo\n",
    "{'terra Solutions lwww.entenasnlutinns.com': ['it']}\n",
    "\"\"\"\n",
    "print(algo.pipe(text).result)"
   ]
  },
  {
   "cell_type": "raw",
   "metadata": {},
   "source": [
    "print('\\n*******************************\\n PART-OF-SPEECH (POS) TAGGER : \\n')\n",
    "# ****************** PART-OF-SPEECH (POS) TAGGER **********************\n",
    "algo = client.algo('ApacheOpenNLP/POSTagger/0.1.1')\n",
    "print(text)\n",
    "#tags part-of-speech and returns an array but throwing an error - all the inputs to be in json -- our reslut is string not getting fixes for that\n",
    "text = response['result']\n",
    "print(algo.pipe(text).result)"
   ]
  },
  {
   "cell_type": "raw",
   "metadata": {},
   "source": [
    "print('\\n*******************************\\n TOKENIZE : \\n')\n",
    "# ****************** TOKENIZE **********************\n",
    "algo = client.algo('ApacheOpenNLP/TokenizeBySentence/0.1.0')\n",
    "print(algo.pipe(text))"
   ]
  },
  {
   "cell_type": "raw",
   "metadata": {},
   "source": [
    "print('\\n*******************************\\n LDA : \\n')\n",
    "# ****************** LDA **********************\n",
    "#classify text in a document to a particular topic.\n",
    "\n",
    "#\n",
    "#print(sentences)\n",
    "algo = client.algo('nlp/LDA/1.0.0')\n",
    "# input = {\n",
    "#   \"docsList\": sentences.result,\n",
    "#   \"mode\": \"quality\"\n",
    "# }\n",
    "\n",
    "# print(input)\n",
    "# LDA = algo.pipe(input).result\n",
    "# print(LDA)\n",
    "\n",
    "list_LDA = []\n",
    "for x in range (len(text)):\n",
    "    print(\"Sentence Detection \",x)\n",
    "    algo = client.algo('ApacheOpenNLP/SentenceDetection/0.1.0')\n",
    "    sentences = algo.pipe(text[x]['description'])\n",
    "    input = {\n",
    "        \"docsList\": sentences.result,\n",
    "        \"mode\": \"quality\"\n",
    "    }\n",
    "    response4 = algo.pipe(input)\n",
    "    j = []\n",
    "    for category in response.result:\n",
    "        j.append(category)\n",
    "    list_LDA.append(j)\n",
    "print(list_LDA)"
   ]
  },
  {
   "cell_type": "code",
   "execution_count": 115,
   "metadata": {},
   "outputs": [
    {
     "name": "stdout",
     "output_type": "stream",
     "text": [
      "\n",
      "*******************************\n",
      " TAXONOMY : \n",
      "\n",
      "Processing  0\n",
      "Processing  1\n",
      "Processing  2\n",
      "Processing  3\n",
      "Processing  4\n",
      "Processing  5\n",
      "Processing  6\n",
      "Processing  7\n",
      "Processing  8\n",
      "Processing  9\n",
      "Processing  10\n",
      "Processing  11\n",
      "Processing  12\n",
      "[['Stocks', 'Personal Finance'], ['U.S. Government Resources', 'Law, Gov’t & Politics'], ['Construction', 'Stocks', 'Personal Finance', 'Investors & Patents', 'Business', 'Hobbies & Interests'], ['Hobbies & Interests', 'Birdwatching'], ['Apartments', 'Real Estate'], ['Weddings', 'Stocks', 'Society', 'Personal Finance', 'Hobbies & Interests', 'Getting Published'], ['Health & Fitness', 'Cancer'], ['Commentary', 'Law, Gov’t & Politics', 'Hobbies & Interests', 'Sports', 'Getting Published', 'Paintball'], ['Personal Finance', 'Stocks'], ['Commentary', 'Metals', 'Law, Gov’t & Politics', 'Business'], ['Logistics', 'Business'], ['U.S. Government Resources', 'Pornography', 'Law, Gov’t & Politics', 'Non-Standard Content'], ['Telecommuting', 'Metals', 'Business', 'Careers']]\n"
     ]
    }
   ],
   "source": [
    "print('\\n*******************************\\n TAXONOMY : \\n')\n",
    "#classification of data takes place here into categories, by the algorithm\n",
    "# **************** Aylien - Taxonomy ****************\n",
    "from aylienapiclient import textapi\n",
    "client_aylien = textapi.Client(\"a19bb245\", \"2623b77754833e2711998a0b0bdad9db\")\n",
    "\n",
    "list_Taxonomy = []\n",
    "for x in range (len(text)):\n",
    "    print(\"Processing \",x)\n",
    "    response5 = algo.pipe(text[x]['description'])\n",
    "    classifications = client_aylien.ClassifyByTaxonomy({\"text\": response5.result, \"taxonomy\": \"iab-qag\"})\n",
    "    j = []\n",
    "    for x in range (len(classifications['categories'])):\n",
    "        j.append(classifications['categories'][x]['label'])\n",
    "    list_Taxonomy.append(j)\n",
    "print(list_Taxonomy)\n",
    "\n",
    "\n",
    "# text = response\n",
    "\n",
    "# for category in classifications['categories']:\n",
    "#     print(category['label'])"
   ]
  },
  {
   "cell_type": "code",
   "execution_count": 120,
   "metadata": {},
   "outputs": [
    {
     "name": "stdout",
     "output_type": "stream",
     "text": [
      "\n",
      "*******************************\n",
      " Summary : \n",
      "\n",
      "Processing  0\n",
      "Processing  1\n",
      "Processing  2\n",
      "Processing  3\n",
      "Processing  4\n",
      "Processing  5\n",
      "Processing  6\n",
      "Processing  7\n",
      "Processing  8\n",
      "Processing  9\n",
      "Processing  10\n",
      "Processing  11\n",
      "Processing  12\n",
      "[\"In a first-of-its kind move that will ensure faster monetary transmission, the nation's largest lender State Bank of India, which controls nearly a quarter of the banking system, Friday announced linking of its savings deposits rates and short-term loans to the RBI's repo rate. The new rates linked the external benchmark rate of the repo rate, will be effective May 1, the bank said in a late evening statement. Savings bank deposits above Rs 1 lakh constitutes around 33 percent of SBI's total deposit books, SBI managing director PK Gupta said.\"]\n",
      "[\"NEW DELHI: India's main financial crime-fighting agency is investigating Philip Morris International Inc and its Indian partner Godfrey Phillips for alleged violation of laws in India, a senior directorate source told Reuters on Thursday. The Enforcement Directorate has been looking into both the companies and the scope of the investigation is much broader than the alleged foreign investment law violations highlighted in a Reuters story published on Wednesday, the source said. Three former officials and one former head of the Enforcement Directorate had reviewed the Philip Morris documents for Reuters and said the dealings should be investigated for circumventing India's foreign investment rules.\"]\n",
      "['Finally, global steel giant ArcelorMittal is set to take over the crippled Essar Steel for Rs 42,000-crore with the Ahmedabad bench of the NCLT giving the go-ahead Friday. The resolution process has already crossed the 270 days mandated deadline long ago after the Ruias, the original promoters of the 10-million steel mill, has been throwing up one legal challenge after another since June 2017 when the company taken to the bankruptcy court. This is the largest ever payout by a new company to an NCLT asset since the IBC came into effect in May 2016.']\n",
      "['']\n",
      "['NEW DELHI: Sitting on 6-7 lakh of unsold units due to poor demand, cash-starved real estate developers heaved a sigh of relief after the government extended the tax waiver on notional rent on such flats for two years from one year earlier. Developers and consultants feel that this budget proposal would benefit developers of major 7-8 cities, particularly those from the national capital region (NCR) and Mumbai Metropolitan Region (MMR) where unsold units are maximum. Commenting on this proposal, ANAROCK Chairman Anuj Puri said: \"This is a welcome move and will benefit the housing sector, as currently there are more than 6.']\n",
      "['After spending 50 days in captivity, Chaitanya Hari, an engineer with IL&FS Transportation Network Ltd (ITNL) in Ethiopia, was hoping to be released on Tuesday to be home in time for his sister’s wedding next week.  But Ethiopian Commercial Bank executives have refused to lift the freeze, further delaying the departure of the employees who are now left with no money to even buy food and are living without electricity as their employer is refusing to transfer any funds.  When this was done, they demanded severance pay for 10 months, which has now been reduced to four months.']\n",
      "['NEW DELHI: The maximum retail price of 390 non-scheduled cancer medicines have been reduced by up to 87 per cent, which would result in annual savings of around Rs 800 crore for the patients, the government said Friday. Manufacturers and hospitals were directed to convey the revised MRP, to be effective from March 8, based on the trade margin formula. A total of 390 brands -- that is 91 per cent of the 426 brands reported by the manufacturers -- showed downward price movement, it added.']\n",
      "[\"The National Company Law Appellate Tribunal (NCLAT) Friday directed the Delhi bench of the NCLT to decide over JSW Steel's bid for the debt-ridden Bhushan Power & Steel by March 31.  Earlier, on February 4 the NCLAT had dismissed the plea of Tata Steel and upheld lenders' decision to approve resolution plan of JSW Steel for Bhushan Power & Steel.  JSW Steel had revised its offer from Rs 11,000 crore to Rs 18,000 crore and later to over Rs 19,000 crore, whereas Tata Steel's last offer was at Rs 17,000 crore after it had refused to revised its bid.\"]\n",
      "['By Bloomberg NewsA Hong Kong stock whose mysterious world-beating surge vaulted it from obscurity into multibillion-dollar investment funds was suspended by city’s securities regulator. , the Hong Kong investment firm whose more than 8,500 percent surge over the past five years bested every other stock in the MSCI All-Country World Index, was halted by Hong Kong’s Securities and Futures Commission on Friday.  A DYF spokeswoman said she couldn’t immediately comment.']\n",
      "[' Kalpana Morparia CEO, South & South East Asia, JP Morgan, talks about her passion for winning and for empowering fellow women. Being a woman, do you find yourself disadvantaged in the financial world?Not at all. How do you look at Indian women making it to corporate leadership roles and company boards.']\n",
      "[\"E-commerce and consumer internet companies have raised over USD 7 billion in private equity and venture capital funding in 2018, says EY report. The report titled 'E-commerce and Consumer Internet Sector – India Trendbook 2019' launched at the IVCA Conclave 2019, noted that majority of the funding was towards building supply chain, expanding into new segments, acquisition/consolidation, and bringing innovative product offerings. 6 billion in 2018 of the total investments into this segment.\"]\n",
      "[\"The Supreme Court Friday dismissed the CBI's appeal against the Delhi High Court's 2005 verdict discharging all the accused, including Hinduja brothers, in the politically-sensitive Rs 64 crore Bofors pay-off case.  The CBI had filed the appeal on February 2 this year. Sources in February had said the agency swung into action after the attorney general orally gave it a go-ahead to file the appeal in the case in which it cited the October 2017 interview of private detective Michael Hershman, who alleged that the then Rajiv Gandhi-led Congress government had sabotaged his investigation.\"]\n",
      "['Amid all gloom over not enough jobs being created in the country, the Confederation of Indian Industry survey of over one lakh small and medium enterprises have shown 13. 9% increase in net jobs created in the MSME sector in last four years or 3. “The survey also indicates optimism on higher growth expectations on employment for the next three years, which emanates from the fact that the government initiatives like the 2% interest rate subvention given to all MSMEs and trade receivables e-discounting system (TReDS) implemented recently would drive future growth leading to more employment,” it said.']\n"
     ]
    }
   ],
   "source": [
    "print('\\n*******************************\\n Summary : \\n')\n",
    "\n",
    "#summ_text = response['result']\n",
    "#summarizes the text - result of OCR\n",
    "algo = client.algo('nlp/Summarizer/0.1.8')\n",
    "#summ = algo.pipe(summ_text).result\n",
    "\n",
    "\n",
    "list_summary = []\n",
    "for x in range (len(text)):\n",
    "    print(\"Processing \",x)\n",
    "    response6 = algo.pipe(text[x]['description'])\n",
    "    j = []\n",
    "    j.append(response6.result)\n",
    "    list_summary.append(j)\n",
    "#print(list_summary)\n",
    "\n",
    "for x in list_summary:\n",
    "    print(x)\n",
    "#print(algo.pipe(summ_text).result)"
   ]
  },
  {
   "cell_type": "code",
   "execution_count": 7,
   "metadata": {},
   "outputs": [
    {
     "name": "stdout",
     "output_type": "stream",
     "text": [
      "\n",
      "*******************************\n",
      " Sentiments : \n",
      "\n",
      "Processing  0\n",
      "Processing  1\n",
      "Processing  2\n",
      "Processing  3\n",
      "Processing  4\n",
      "[[2, 2, 2, 2, 2, 2, 2, 2], [2, 2, 2, 2, 2, 2, 2, 2], [2, 2, 2, 2, 2, 2, 2, 2], [2, 2, 2, 3, 3, 2, 2, 2], [2, 2, 2, 2, 3, 2, 2, 2]]\n",
      "0.069375\n",
      "0.069375\n",
      "0.069375\n",
      "0.069375\n",
      "0.069375\n"
     ]
    }
   ],
   "source": [
    "#Sentiment Analysis\n",
    "print('\\n*******************************\\n Sentiments : \\n')\n",
    "algo = client.algo('nlp/SentimentAnalysis/1.0.5')\n",
    "\n",
    "sentiment = []\n",
    "for x in range (5):#len(list_tags)):\n",
    "    print(\"Processing \",x)\n",
    "    j = []\n",
    "    for y in list_tags[x]:\n",
    "        response7 = algo.pipe(y)\n",
    "        j.append(response7.result)\n",
    "    sentiment.append(j)\n",
    "print(sentiment)  \n",
    "\n",
    "#for category in response2.result:\n",
    "#     s = algo.pipe(category).result\n",
    "#     print(\"Sentiment Score (\",category,\"): \", s)\n",
    "#     sentiment.append(s)\n",
    "\n",
    "#checking the level of sentiment\n",
    "import numpy\n",
    "for x in sentiment:\n",
    "    sentiment = numpy.asarray(sentiment)\n",
    "    how_much_senti = sentiment.var()\n",
    "    print(how_much_senti)\n",
    "#Var returns the variance of the array elements, a measure of the spread of a distribution. \n",
    "#The variance is computed for the flattened array by default, otherwise over the specified axis.\n",
    "    \n",
    "#this variance value can affect the result of our classification"
   ]
  }
 ],
 "metadata": {
  "kernelspec": {
   "display_name": "Python 3",
   "language": "python",
   "name": "python3"
  },
  "language_info": {
   "codemirror_mode": {
    "name": "ipython",
    "version": 3
   },
   "file_extension": ".py",
   "mimetype": "text/x-python",
   "name": "python",
   "nbconvert_exporter": "python",
   "pygments_lexer": "ipython3",
   "version": "3.6.4"
  }
 },
 "nbformat": 4,
 "nbformat_minor": 2
}
